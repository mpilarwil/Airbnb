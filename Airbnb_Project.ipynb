{
 "cells": [
  {
   "cell_type": "code",
   "execution_count": 2,
   "id": "85460538",
   "metadata": {},
   "outputs": [],
   "source": [
    "'''\n",
    "Project Title: Airbnb - IBM Skills\n",
    "Author: Pilar Wilches\n",
    "Date: '2023-12-04'\n",
    "Source data: https://www.kaggle.com/datasets/arianazmoudeh/airbnbopendata/data\n",
    "Goal: Practice data analysis by performing the process of cleaning, transforming, and visualizing data.\n",
    "\n",
    "Título del proyecto: Airbnb - IBM Skills\n",
    "Autora: Pilar Wilches\n",
    "Fecha: '2023-12-04'\n",
    "Fuente de Datos: https://www.kaggle.com/datasets/arianazmoudeh/airbnbopendata/data\n",
    "Objetivo: Practicar el análisis de datos realizando proceso de limpieza, transformación y visualización de datos.\n",
    "'''"
   ]
  },
  {
   "cell_type": "code",
   "execution_count": 2,
   "id": "b041e952",
   "metadata": {},
   "outputs": [],
   "source": [
    "#First of all, I'm going to list the necessary libraries for the entire process of loading and cleaning data\n",
    "#Primero que todo voy a listar las librerias necesarias para todo el proceso de cargue y limpieza de datos\n",
    "\n",
    "# Importing pandas for data manipulation and analysis\n",
    "# Importo pandas para manipulación de datos y analisis\n",
    "import pandas as pd \n",
    "\n",
    "# Importing numpy for numerical operations\n",
    "# importo numpy para cálculos numéricos\n",
    "import numpy as np\n"
   ]
  },
  {
   "cell_type": "code",
   "execution_count": 81,
   "id": "352058e6",
   "metadata": {},
   "outputs": [],
   "source": [
    "## Task 1. Load Data / Cargue de datos\n",
    "df = pd.read_csv('/Users/maria/Python/Proyecto final/Airbnb_Open_Data.csv')"
   ]
  },
  {
   "cell_type": "code",
   "execution_count": 82,
   "id": "7c750cf0",
   "metadata": {},
   "outputs": [
    {
     "data": {
      "text/html": [
       "<div>\n",
       "<style scoped>\n",
       "    .dataframe tbody tr th:only-of-type {\n",
       "        vertical-align: middle;\n",
       "    }\n",
       "\n",
       "    .dataframe tbody tr th {\n",
       "        vertical-align: top;\n",
       "    }\n",
       "\n",
       "    .dataframe thead th {\n",
       "        text-align: right;\n",
       "    }\n",
       "</style>\n",
       "<table border=\"1\" class=\"dataframe\">\n",
       "  <thead>\n",
       "    <tr style=\"text-align: right;\">\n",
       "      <th></th>\n",
       "      <th>id</th>\n",
       "      <th>NAME</th>\n",
       "      <th>host id</th>\n",
       "      <th>host_identity_verified</th>\n",
       "      <th>host name</th>\n",
       "      <th>neighbourhood group</th>\n",
       "      <th>neighbourhood</th>\n",
       "      <th>lat</th>\n",
       "      <th>long</th>\n",
       "      <th>country</th>\n",
       "      <th>...</th>\n",
       "      <th>service fee</th>\n",
       "      <th>minimum nights</th>\n",
       "      <th>number of reviews</th>\n",
       "      <th>last review</th>\n",
       "      <th>reviews per month</th>\n",
       "      <th>review rate number</th>\n",
       "      <th>calculated host listings count</th>\n",
       "      <th>availability 365</th>\n",
       "      <th>house_rules</th>\n",
       "      <th>license</th>\n",
       "    </tr>\n",
       "  </thead>\n",
       "  <tbody>\n",
       "    <tr>\n",
       "      <th>0</th>\n",
       "      <td>1001254</td>\n",
       "      <td>Clean &amp; quiet apt home by the park</td>\n",
       "      <td>80014485718</td>\n",
       "      <td>unconfirmed</td>\n",
       "      <td>Madaline</td>\n",
       "      <td>Brooklyn</td>\n",
       "      <td>Kensington</td>\n",
       "      <td>40.64749</td>\n",
       "      <td>-73.97237</td>\n",
       "      <td>United States</td>\n",
       "      <td>...</td>\n",
       "      <td>$193</td>\n",
       "      <td>10.0</td>\n",
       "      <td>9.0</td>\n",
       "      <td>10/19/2021</td>\n",
       "      <td>0.21</td>\n",
       "      <td>4.0</td>\n",
       "      <td>6.0</td>\n",
       "      <td>286.0</td>\n",
       "      <td>Clean up and treat the home the way you'd like...</td>\n",
       "      <td>NaN</td>\n",
       "    </tr>\n",
       "    <tr>\n",
       "      <th>1</th>\n",
       "      <td>1002102</td>\n",
       "      <td>Skylit Midtown Castle</td>\n",
       "      <td>52335172823</td>\n",
       "      <td>verified</td>\n",
       "      <td>Jenna</td>\n",
       "      <td>Manhattan</td>\n",
       "      <td>Midtown</td>\n",
       "      <td>40.75362</td>\n",
       "      <td>-73.98377</td>\n",
       "      <td>United States</td>\n",
       "      <td>...</td>\n",
       "      <td>$28</td>\n",
       "      <td>30.0</td>\n",
       "      <td>45.0</td>\n",
       "      <td>5/21/2022</td>\n",
       "      <td>0.38</td>\n",
       "      <td>4.0</td>\n",
       "      <td>2.0</td>\n",
       "      <td>228.0</td>\n",
       "      <td>Pet friendly but please confirm with me if the...</td>\n",
       "      <td>NaN</td>\n",
       "    </tr>\n",
       "    <tr>\n",
       "      <th>2</th>\n",
       "      <td>1002403</td>\n",
       "      <td>THE VILLAGE OF HARLEM....NEW YORK !</td>\n",
       "      <td>78829239556</td>\n",
       "      <td>NaN</td>\n",
       "      <td>Elise</td>\n",
       "      <td>Manhattan</td>\n",
       "      <td>Harlem</td>\n",
       "      <td>40.80902</td>\n",
       "      <td>-73.94190</td>\n",
       "      <td>United States</td>\n",
       "      <td>...</td>\n",
       "      <td>$124</td>\n",
       "      <td>3.0</td>\n",
       "      <td>0.0</td>\n",
       "      <td>NaN</td>\n",
       "      <td>NaN</td>\n",
       "      <td>5.0</td>\n",
       "      <td>1.0</td>\n",
       "      <td>352.0</td>\n",
       "      <td>I encourage you to use my kitchen, cooking and...</td>\n",
       "      <td>NaN</td>\n",
       "    </tr>\n",
       "    <tr>\n",
       "      <th>3</th>\n",
       "      <td>1002755</td>\n",
       "      <td>NaN</td>\n",
       "      <td>85098326012</td>\n",
       "      <td>unconfirmed</td>\n",
       "      <td>Garry</td>\n",
       "      <td>Brooklyn</td>\n",
       "      <td>Clinton Hill</td>\n",
       "      <td>40.68514</td>\n",
       "      <td>-73.95976</td>\n",
       "      <td>United States</td>\n",
       "      <td>...</td>\n",
       "      <td>$74</td>\n",
       "      <td>30.0</td>\n",
       "      <td>270.0</td>\n",
       "      <td>7/5/2019</td>\n",
       "      <td>4.64</td>\n",
       "      <td>4.0</td>\n",
       "      <td>1.0</td>\n",
       "      <td>322.0</td>\n",
       "      <td>NaN</td>\n",
       "      <td>NaN</td>\n",
       "    </tr>\n",
       "    <tr>\n",
       "      <th>4</th>\n",
       "      <td>1003689</td>\n",
       "      <td>Entire Apt: Spacious Studio/Loft by central park</td>\n",
       "      <td>92037596077</td>\n",
       "      <td>verified</td>\n",
       "      <td>Lyndon</td>\n",
       "      <td>Manhattan</td>\n",
       "      <td>East Harlem</td>\n",
       "      <td>40.79851</td>\n",
       "      <td>-73.94399</td>\n",
       "      <td>United States</td>\n",
       "      <td>...</td>\n",
       "      <td>$41</td>\n",
       "      <td>10.0</td>\n",
       "      <td>9.0</td>\n",
       "      <td>11/19/2018</td>\n",
       "      <td>0.10</td>\n",
       "      <td>3.0</td>\n",
       "      <td>1.0</td>\n",
       "      <td>289.0</td>\n",
       "      <td>Please no smoking in the house, porch or on th...</td>\n",
       "      <td>NaN</td>\n",
       "    </tr>\n",
       "  </tbody>\n",
       "</table>\n",
       "<p>5 rows × 26 columns</p>\n",
       "</div>"
      ],
      "text/plain": [
       "        id                                              NAME      host id  \\\n",
       "0  1001254                Clean & quiet apt home by the park  80014485718   \n",
       "1  1002102                             Skylit Midtown Castle  52335172823   \n",
       "2  1002403               THE VILLAGE OF HARLEM....NEW YORK !  78829239556   \n",
       "3  1002755                                               NaN  85098326012   \n",
       "4  1003689  Entire Apt: Spacious Studio/Loft by central park  92037596077   \n",
       "\n",
       "  host_identity_verified host name neighbourhood group neighbourhood  \\\n",
       "0            unconfirmed  Madaline            Brooklyn    Kensington   \n",
       "1               verified     Jenna           Manhattan       Midtown   \n",
       "2                    NaN     Elise           Manhattan        Harlem   \n",
       "3            unconfirmed     Garry            Brooklyn  Clinton Hill   \n",
       "4               verified    Lyndon           Manhattan   East Harlem   \n",
       "\n",
       "        lat      long        country  ... service fee minimum nights  \\\n",
       "0  40.64749 -73.97237  United States  ...       $193            10.0   \n",
       "1  40.75362 -73.98377  United States  ...        $28            30.0   \n",
       "2  40.80902 -73.94190  United States  ...       $124             3.0   \n",
       "3  40.68514 -73.95976  United States  ...        $74            30.0   \n",
       "4  40.79851 -73.94399  United States  ...        $41            10.0   \n",
       "\n",
       "  number of reviews last review  reviews per month review rate number  \\\n",
       "0               9.0  10/19/2021               0.21                4.0   \n",
       "1              45.0   5/21/2022               0.38                4.0   \n",
       "2               0.0         NaN                NaN                5.0   \n",
       "3             270.0    7/5/2019               4.64                4.0   \n",
       "4               9.0  11/19/2018               0.10                3.0   \n",
       "\n",
       "  calculated host listings count  availability 365  \\\n",
       "0                            6.0             286.0   \n",
       "1                            2.0             228.0   \n",
       "2                            1.0             352.0   \n",
       "3                            1.0             322.0   \n",
       "4                            1.0             289.0   \n",
       "\n",
       "                                         house_rules license  \n",
       "0  Clean up and treat the home the way you'd like...     NaN  \n",
       "1  Pet friendly but please confirm with me if the...     NaN  \n",
       "2  I encourage you to use my kitchen, cooking and...     NaN  \n",
       "3                                                NaN     NaN  \n",
       "4  Please no smoking in the house, porch or on th...     NaN  \n",
       "\n",
       "[5 rows x 26 columns]"
      ]
     },
     "execution_count": 82,
     "metadata": {},
     "output_type": "execute_result"
    }
   ],
   "source": [
    "# Task 1.1 Verify data upload / Verificar la carga de datos\n",
    "df.head()"
   ]
  },
  {
   "cell_type": "code",
   "execution_count": 83,
   "id": "34725644",
   "metadata": {},
   "outputs": [
    {
     "data": {
      "text/html": [
       "<div>\n",
       "<style scoped>\n",
       "    .dataframe tbody tr th:only-of-type {\n",
       "        vertical-align: middle;\n",
       "    }\n",
       "\n",
       "    .dataframe tbody tr th {\n",
       "        vertical-align: top;\n",
       "    }\n",
       "\n",
       "    .dataframe thead th {\n",
       "        text-align: right;\n",
       "    }\n",
       "</style>\n",
       "<table border=\"1\" class=\"dataframe\">\n",
       "  <thead>\n",
       "    <tr style=\"text-align: right;\">\n",
       "      <th></th>\n",
       "      <th>id</th>\n",
       "      <th>NAME</th>\n",
       "      <th>host id</th>\n",
       "      <th>host_identity_verified</th>\n",
       "      <th>host name</th>\n",
       "      <th>neighbourhood group</th>\n",
       "      <th>neighbourhood</th>\n",
       "      <th>lat</th>\n",
       "      <th>long</th>\n",
       "      <th>country</th>\n",
       "      <th>...</th>\n",
       "      <th>service fee</th>\n",
       "      <th>minimum nights</th>\n",
       "      <th>number of reviews</th>\n",
       "      <th>last review</th>\n",
       "      <th>reviews per month</th>\n",
       "      <th>review rate number</th>\n",
       "      <th>calculated host listings count</th>\n",
       "      <th>availability 365</th>\n",
       "      <th>house_rules</th>\n",
       "      <th>license</th>\n",
       "    </tr>\n",
       "  </thead>\n",
       "  <tbody>\n",
       "    <tr>\n",
       "      <th>102594</th>\n",
       "      <td>6092437</td>\n",
       "      <td>Spare room in Williamsburg</td>\n",
       "      <td>12312296767</td>\n",
       "      <td>verified</td>\n",
       "      <td>Krik</td>\n",
       "      <td>Brooklyn</td>\n",
       "      <td>Williamsburg</td>\n",
       "      <td>40.70862</td>\n",
       "      <td>-73.94651</td>\n",
       "      <td>United States</td>\n",
       "      <td>...</td>\n",
       "      <td>$169</td>\n",
       "      <td>1.0</td>\n",
       "      <td>0.0</td>\n",
       "      <td>NaN</td>\n",
       "      <td>NaN</td>\n",
       "      <td>3.0</td>\n",
       "      <td>1.0</td>\n",
       "      <td>227.0</td>\n",
       "      <td>No Smoking No Parties or Events of any kind Pl...</td>\n",
       "      <td>NaN</td>\n",
       "    </tr>\n",
       "    <tr>\n",
       "      <th>102595</th>\n",
       "      <td>6092990</td>\n",
       "      <td>Best Location near Columbia U</td>\n",
       "      <td>77864383453</td>\n",
       "      <td>unconfirmed</td>\n",
       "      <td>Mifan</td>\n",
       "      <td>Manhattan</td>\n",
       "      <td>Morningside Heights</td>\n",
       "      <td>40.80460</td>\n",
       "      <td>-73.96545</td>\n",
       "      <td>United States</td>\n",
       "      <td>...</td>\n",
       "      <td>$167</td>\n",
       "      <td>1.0</td>\n",
       "      <td>1.0</td>\n",
       "      <td>7/6/2015</td>\n",
       "      <td>0.02</td>\n",
       "      <td>2.0</td>\n",
       "      <td>2.0</td>\n",
       "      <td>395.0</td>\n",
       "      <td>House rules: Guests agree to the following ter...</td>\n",
       "      <td>NaN</td>\n",
       "    </tr>\n",
       "    <tr>\n",
       "      <th>102596</th>\n",
       "      <td>6093542</td>\n",
       "      <td>Comfy, bright room in Brooklyn</td>\n",
       "      <td>69050334417</td>\n",
       "      <td>unconfirmed</td>\n",
       "      <td>Megan</td>\n",
       "      <td>Brooklyn</td>\n",
       "      <td>Park Slope</td>\n",
       "      <td>40.67505</td>\n",
       "      <td>-73.98045</td>\n",
       "      <td>United States</td>\n",
       "      <td>...</td>\n",
       "      <td>$198</td>\n",
       "      <td>3.0</td>\n",
       "      <td>0.0</td>\n",
       "      <td>NaN</td>\n",
       "      <td>NaN</td>\n",
       "      <td>5.0</td>\n",
       "      <td>1.0</td>\n",
       "      <td>342.0</td>\n",
       "      <td>NaN</td>\n",
       "      <td>NaN</td>\n",
       "    </tr>\n",
       "    <tr>\n",
       "      <th>102597</th>\n",
       "      <td>6094094</td>\n",
       "      <td>Big Studio-One Stop from Midtown</td>\n",
       "      <td>11160591270</td>\n",
       "      <td>unconfirmed</td>\n",
       "      <td>Christopher</td>\n",
       "      <td>Queens</td>\n",
       "      <td>Long Island City</td>\n",
       "      <td>40.74989</td>\n",
       "      <td>-73.93777</td>\n",
       "      <td>United States</td>\n",
       "      <td>...</td>\n",
       "      <td>$109</td>\n",
       "      <td>2.0</td>\n",
       "      <td>5.0</td>\n",
       "      <td>10/11/2015</td>\n",
       "      <td>0.10</td>\n",
       "      <td>3.0</td>\n",
       "      <td>1.0</td>\n",
       "      <td>386.0</td>\n",
       "      <td>NaN</td>\n",
       "      <td>NaN</td>\n",
       "    </tr>\n",
       "    <tr>\n",
       "      <th>102598</th>\n",
       "      <td>6094647</td>\n",
       "      <td>585 sf Luxury Studio</td>\n",
       "      <td>68170633372</td>\n",
       "      <td>unconfirmed</td>\n",
       "      <td>Rebecca</td>\n",
       "      <td>Manhattan</td>\n",
       "      <td>Upper West Side</td>\n",
       "      <td>40.76807</td>\n",
       "      <td>-73.98342</td>\n",
       "      <td>United States</td>\n",
       "      <td>...</td>\n",
       "      <td>$206</td>\n",
       "      <td>1.0</td>\n",
       "      <td>0.0</td>\n",
       "      <td>NaN</td>\n",
       "      <td>NaN</td>\n",
       "      <td>3.0</td>\n",
       "      <td>1.0</td>\n",
       "      <td>69.0</td>\n",
       "      <td>NaN</td>\n",
       "      <td>NaN</td>\n",
       "    </tr>\n",
       "  </tbody>\n",
       "</table>\n",
       "<p>5 rows × 26 columns</p>\n",
       "</div>"
      ],
      "text/plain": [
       "             id                              NAME      host id  \\\n",
       "102594  6092437        Spare room in Williamsburg  12312296767   \n",
       "102595  6092990     Best Location near Columbia U  77864383453   \n",
       "102596  6093542    Comfy, bright room in Brooklyn  69050334417   \n",
       "102597  6094094  Big Studio-One Stop from Midtown  11160591270   \n",
       "102598  6094647              585 sf Luxury Studio  68170633372   \n",
       "\n",
       "       host_identity_verified    host name neighbourhood group  \\\n",
       "102594               verified         Krik            Brooklyn   \n",
       "102595            unconfirmed        Mifan           Manhattan   \n",
       "102596            unconfirmed        Megan            Brooklyn   \n",
       "102597            unconfirmed  Christopher              Queens   \n",
       "102598            unconfirmed      Rebecca           Manhattan   \n",
       "\n",
       "              neighbourhood       lat      long        country  ...  \\\n",
       "102594         Williamsburg  40.70862 -73.94651  United States  ...   \n",
       "102595  Morningside Heights  40.80460 -73.96545  United States  ...   \n",
       "102596           Park Slope  40.67505 -73.98045  United States  ...   \n",
       "102597     Long Island City  40.74989 -73.93777  United States  ...   \n",
       "102598      Upper West Side  40.76807 -73.98342  United States  ...   \n",
       "\n",
       "       service fee minimum nights number of reviews last review  \\\n",
       "102594       $169             1.0               0.0         NaN   \n",
       "102595       $167             1.0               1.0    7/6/2015   \n",
       "102596       $198             3.0               0.0         NaN   \n",
       "102597       $109             2.0               5.0  10/11/2015   \n",
       "102598       $206             1.0               0.0         NaN   \n",
       "\n",
       "        reviews per month review rate number calculated host listings count  \\\n",
       "102594                NaN                3.0                            1.0   \n",
       "102595               0.02                2.0                            2.0   \n",
       "102596                NaN                5.0                            1.0   \n",
       "102597               0.10                3.0                            1.0   \n",
       "102598                NaN                3.0                            1.0   \n",
       "\n",
       "        availability 365                                        house_rules  \\\n",
       "102594             227.0  No Smoking No Parties or Events of any kind Pl...   \n",
       "102595             395.0  House rules: Guests agree to the following ter...   \n",
       "102596             342.0                                                NaN   \n",
       "102597             386.0                                                NaN   \n",
       "102598              69.0                                                NaN   \n",
       "\n",
       "       license  \n",
       "102594     NaN  \n",
       "102595     NaN  \n",
       "102596     NaN  \n",
       "102597     NaN  \n",
       "102598     NaN  \n",
       "\n",
       "[5 rows x 26 columns]"
      ]
     },
     "execution_count": 83,
     "metadata": {},
     "output_type": "execute_result"
    }
   ],
   "source": [
    "df.tail()"
   ]
  },
  {
   "cell_type": "code",
   "execution_count": null,
   "id": "d4932180",
   "metadata": {},
   "outputs": [],
   "source": [
    "# At this point, I see different fields with the value NaN\n",
    "# En este punto veo diferentes campos con el valor NaN"
   ]
  },
  {
   "cell_type": "code",
   "execution_count": 84,
   "id": "407d159f",
   "metadata": {},
   "outputs": [
    {
     "name": "stdout",
     "output_type": "stream",
     "text": [
      "<class 'pandas.core.frame.DataFrame'>\n",
      "RangeIndex: 102599 entries, 0 to 102598\n",
      "Data columns (total 26 columns):\n",
      " #   Column                          Non-Null Count   Dtype  \n",
      "---  ------                          --------------   -----  \n",
      " 0   id                              102599 non-null  int64  \n",
      " 1   NAME                            102349 non-null  object \n",
      " 2   host id                         102599 non-null  int64  \n",
      " 3   host_identity_verified          102310 non-null  object \n",
      " 4   host name                       102193 non-null  object \n",
      " 5   neighbourhood group             102570 non-null  object \n",
      " 6   neighbourhood                   102583 non-null  object \n",
      " 7   lat                             102591 non-null  float64\n",
      " 8   long                            102591 non-null  float64\n",
      " 9   country                         102067 non-null  object \n",
      " 10  country code                    102468 non-null  object \n",
      " 11  instant_bookable                102494 non-null  object \n",
      " 12  cancellation_policy             102523 non-null  object \n",
      " 13  room type                       102599 non-null  object \n",
      " 14  Construction year               102385 non-null  float64\n",
      " 15  price                           102352 non-null  object \n",
      " 16  service fee                     102326 non-null  object \n",
      " 17  minimum nights                  102190 non-null  float64\n",
      " 18  number of reviews               102416 non-null  float64\n",
      " 19  last review                     86706 non-null   object \n",
      " 20  reviews per month               86720 non-null   float64\n",
      " 21  review rate number              102273 non-null  float64\n",
      " 22  calculated host listings count  102280 non-null  float64\n",
      " 23  availability 365                102151 non-null  float64\n",
      " 24  house_rules                     50468 non-null   object \n",
      " 25  license                         2 non-null       object \n",
      "dtypes: float64(9), int64(2), object(15)\n",
      "memory usage: 20.4+ MB\n"
     ]
    }
   ],
   "source": [
    "df.info()"
   ]
  },
  {
   "cell_type": "code",
   "execution_count": 85,
   "id": "eceb7619",
   "metadata": {},
   "outputs": [
    {
     "name": "stdout",
     "output_type": "stream",
     "text": [
      "Index(['id', 'NAME', 'host id', 'host_identity_verified', 'host name',\n",
      "       'neighbourhood group', 'neighbourhood', 'lat', 'long', 'country',\n",
      "       'country code', 'instant_bookable', 'cancellation_policy', 'room type',\n",
      "       'Construction year', 'price', 'service fee', 'minimum nights',\n",
      "       'number of reviews', 'last review', 'reviews per month',\n",
      "       'review rate number', 'calculated host listings count',\n",
      "       'availability 365', 'house_rules', 'license'],\n",
      "      dtype='object')\n"
     ]
    }
   ],
   "source": [
    "print(df.columns)"
   ]
  },
  {
   "cell_type": "code",
   "execution_count": 86,
   "id": "e2289cb3",
   "metadata": {},
   "outputs": [
    {
     "name": "stdout",
     "output_type": "stream",
     "text": [
      "Number host id': 102057\n",
      "Number id': 102058\n",
      "Number country': 1\n",
      "Number country code': 1\n"
     ]
    }
   ],
   "source": [
    "## 2. Data Cleaning / Limpieza de datos\n",
    "# 2.1 Remove unwanted columns from the dataframe, including host id, id, country, and country code.\n",
    "# 2.2 Specify the reason for removing these columns for your data analysis.\n",
    "\n",
    "count_values_host_id = df['host id'].nunique()\n",
    "count_values_id = df['id'].nunique()\n",
    "count_values_country = df['country'].nunique()\n",
    "count_values_country_code = df['country code'].nunique()\n",
    "\n",
    "print(\"Number host id':\", count_values_host_id)\n",
    "print(\"Number id':\", count_values_id)\n",
    "print(\"Number country':\", count_values_country)\n",
    "print(\"Number country code':\", count_values_country_code)\n"
   ]
  },
  {
   "cell_type": "code",
   "execution_count": 87,
   "id": "47f1f736",
   "metadata": {},
   "outputs": [],
   "source": [
    "# The previous results show that the IDs are unique for each record; each one has a different ID, \n",
    "# which is why it is not useful for the analysis. \n",
    "# On the other hand, the 'country' field has a unique value, as well as the 'country code'.\n",
    "\n",
    "# Los anteriores resultados presentan que los id son únicos para cada registro, cada uno tiene un id diferente, \n",
    "# razón por la cual no es útil para el análisis. De otra parte el campo country tiene un único valor al igual\n",
    "# que el country code."
   ]
  },
  {
   "cell_type": "code",
   "execution_count": 88,
   "id": "9e97d85d",
   "metadata": {},
   "outputs": [],
   "source": [
    "df.drop(columns = ['host id', 'id', 'country', 'country code'], axis = 1, inplace = True)"
   ]
  },
  {
   "cell_type": "code",
   "execution_count": 89,
   "id": "aa740a4e",
   "metadata": {},
   "outputs": [
    {
     "data": {
      "text/html": [
       "<div>\n",
       "<style scoped>\n",
       "    .dataframe tbody tr th:only-of-type {\n",
       "        vertical-align: middle;\n",
       "    }\n",
       "\n",
       "    .dataframe tbody tr th {\n",
       "        vertical-align: top;\n",
       "    }\n",
       "\n",
       "    .dataframe thead th {\n",
       "        text-align: right;\n",
       "    }\n",
       "</style>\n",
       "<table border=\"1\" class=\"dataframe\">\n",
       "  <thead>\n",
       "    <tr style=\"text-align: right;\">\n",
       "      <th></th>\n",
       "      <th>NAME</th>\n",
       "      <th>host_identity_verified</th>\n",
       "      <th>host name</th>\n",
       "      <th>neighbourhood group</th>\n",
       "      <th>neighbourhood</th>\n",
       "      <th>lat</th>\n",
       "      <th>long</th>\n",
       "      <th>instant_bookable</th>\n",
       "      <th>cancellation_policy</th>\n",
       "      <th>room type</th>\n",
       "      <th>...</th>\n",
       "      <th>service fee</th>\n",
       "      <th>minimum nights</th>\n",
       "      <th>number of reviews</th>\n",
       "      <th>last review</th>\n",
       "      <th>reviews per month</th>\n",
       "      <th>review rate number</th>\n",
       "      <th>calculated host listings count</th>\n",
       "      <th>availability 365</th>\n",
       "      <th>house_rules</th>\n",
       "      <th>license</th>\n",
       "    </tr>\n",
       "  </thead>\n",
       "  <tbody>\n",
       "    <tr>\n",
       "      <th>0</th>\n",
       "      <td>Clean &amp; quiet apt home by the park</td>\n",
       "      <td>unconfirmed</td>\n",
       "      <td>Madaline</td>\n",
       "      <td>Brooklyn</td>\n",
       "      <td>Kensington</td>\n",
       "      <td>40.64749</td>\n",
       "      <td>-73.97237</td>\n",
       "      <td>False</td>\n",
       "      <td>strict</td>\n",
       "      <td>Private room</td>\n",
       "      <td>...</td>\n",
       "      <td>$193</td>\n",
       "      <td>10.0</td>\n",
       "      <td>9.0</td>\n",
       "      <td>10/19/2021</td>\n",
       "      <td>0.21</td>\n",
       "      <td>4.0</td>\n",
       "      <td>6.0</td>\n",
       "      <td>286.0</td>\n",
       "      <td>Clean up and treat the home the way you'd like...</td>\n",
       "      <td>NaN</td>\n",
       "    </tr>\n",
       "    <tr>\n",
       "      <th>1</th>\n",
       "      <td>Skylit Midtown Castle</td>\n",
       "      <td>verified</td>\n",
       "      <td>Jenna</td>\n",
       "      <td>Manhattan</td>\n",
       "      <td>Midtown</td>\n",
       "      <td>40.75362</td>\n",
       "      <td>-73.98377</td>\n",
       "      <td>False</td>\n",
       "      <td>moderate</td>\n",
       "      <td>Entire home/apt</td>\n",
       "      <td>...</td>\n",
       "      <td>$28</td>\n",
       "      <td>30.0</td>\n",
       "      <td>45.0</td>\n",
       "      <td>5/21/2022</td>\n",
       "      <td>0.38</td>\n",
       "      <td>4.0</td>\n",
       "      <td>2.0</td>\n",
       "      <td>228.0</td>\n",
       "      <td>Pet friendly but please confirm with me if the...</td>\n",
       "      <td>NaN</td>\n",
       "    </tr>\n",
       "    <tr>\n",
       "      <th>2</th>\n",
       "      <td>THE VILLAGE OF HARLEM....NEW YORK !</td>\n",
       "      <td>NaN</td>\n",
       "      <td>Elise</td>\n",
       "      <td>Manhattan</td>\n",
       "      <td>Harlem</td>\n",
       "      <td>40.80902</td>\n",
       "      <td>-73.94190</td>\n",
       "      <td>True</td>\n",
       "      <td>flexible</td>\n",
       "      <td>Private room</td>\n",
       "      <td>...</td>\n",
       "      <td>$124</td>\n",
       "      <td>3.0</td>\n",
       "      <td>0.0</td>\n",
       "      <td>NaN</td>\n",
       "      <td>NaN</td>\n",
       "      <td>5.0</td>\n",
       "      <td>1.0</td>\n",
       "      <td>352.0</td>\n",
       "      <td>I encourage you to use my kitchen, cooking and...</td>\n",
       "      <td>NaN</td>\n",
       "    </tr>\n",
       "    <tr>\n",
       "      <th>3</th>\n",
       "      <td>NaN</td>\n",
       "      <td>unconfirmed</td>\n",
       "      <td>Garry</td>\n",
       "      <td>Brooklyn</td>\n",
       "      <td>Clinton Hill</td>\n",
       "      <td>40.68514</td>\n",
       "      <td>-73.95976</td>\n",
       "      <td>True</td>\n",
       "      <td>moderate</td>\n",
       "      <td>Entire home/apt</td>\n",
       "      <td>...</td>\n",
       "      <td>$74</td>\n",
       "      <td>30.0</td>\n",
       "      <td>270.0</td>\n",
       "      <td>7/5/2019</td>\n",
       "      <td>4.64</td>\n",
       "      <td>4.0</td>\n",
       "      <td>1.0</td>\n",
       "      <td>322.0</td>\n",
       "      <td>NaN</td>\n",
       "      <td>NaN</td>\n",
       "    </tr>\n",
       "    <tr>\n",
       "      <th>4</th>\n",
       "      <td>Entire Apt: Spacious Studio/Loft by central park</td>\n",
       "      <td>verified</td>\n",
       "      <td>Lyndon</td>\n",
       "      <td>Manhattan</td>\n",
       "      <td>East Harlem</td>\n",
       "      <td>40.79851</td>\n",
       "      <td>-73.94399</td>\n",
       "      <td>False</td>\n",
       "      <td>moderate</td>\n",
       "      <td>Entire home/apt</td>\n",
       "      <td>...</td>\n",
       "      <td>$41</td>\n",
       "      <td>10.0</td>\n",
       "      <td>9.0</td>\n",
       "      <td>11/19/2018</td>\n",
       "      <td>0.10</td>\n",
       "      <td>3.0</td>\n",
       "      <td>1.0</td>\n",
       "      <td>289.0</td>\n",
       "      <td>Please no smoking in the house, porch or on th...</td>\n",
       "      <td>NaN</td>\n",
       "    </tr>\n",
       "  </tbody>\n",
       "</table>\n",
       "<p>5 rows × 22 columns</p>\n",
       "</div>"
      ],
      "text/plain": [
       "                                               NAME host_identity_verified  \\\n",
       "0                Clean & quiet apt home by the park            unconfirmed   \n",
       "1                             Skylit Midtown Castle               verified   \n",
       "2               THE VILLAGE OF HARLEM....NEW YORK !                    NaN   \n",
       "3                                               NaN            unconfirmed   \n",
       "4  Entire Apt: Spacious Studio/Loft by central park               verified   \n",
       "\n",
       "  host name neighbourhood group neighbourhood       lat      long  \\\n",
       "0  Madaline            Brooklyn    Kensington  40.64749 -73.97237   \n",
       "1     Jenna           Manhattan       Midtown  40.75362 -73.98377   \n",
       "2     Elise           Manhattan        Harlem  40.80902 -73.94190   \n",
       "3     Garry            Brooklyn  Clinton Hill  40.68514 -73.95976   \n",
       "4    Lyndon           Manhattan   East Harlem  40.79851 -73.94399   \n",
       "\n",
       "  instant_bookable cancellation_policy        room type  ...  service fee  \\\n",
       "0            False              strict     Private room  ...        $193    \n",
       "1            False            moderate  Entire home/apt  ...         $28    \n",
       "2             True            flexible     Private room  ...        $124    \n",
       "3             True            moderate  Entire home/apt  ...         $74    \n",
       "4            False            moderate  Entire home/apt  ...         $41    \n",
       "\n",
       "  minimum nights number of reviews  last review  reviews per month  \\\n",
       "0           10.0               9.0   10/19/2021               0.21   \n",
       "1           30.0              45.0    5/21/2022               0.38   \n",
       "2            3.0               0.0          NaN                NaN   \n",
       "3           30.0             270.0     7/5/2019               4.64   \n",
       "4           10.0               9.0   11/19/2018               0.10   \n",
       "\n",
       "  review rate number  calculated host listings count  availability 365  \\\n",
       "0                4.0                             6.0             286.0   \n",
       "1                4.0                             2.0             228.0   \n",
       "2                5.0                             1.0             352.0   \n",
       "3                4.0                             1.0             322.0   \n",
       "4                3.0                             1.0             289.0   \n",
       "\n",
       "                                         house_rules  license  \n",
       "0  Clean up and treat the home the way you'd like...      NaN  \n",
       "1  Pet friendly but please confirm with me if the...      NaN  \n",
       "2  I encourage you to use my kitchen, cooking and...      NaN  \n",
       "3                                                NaN      NaN  \n",
       "4  Please no smoking in the house, porch or on th...      NaN  \n",
       "\n",
       "[5 rows x 22 columns]"
      ]
     },
     "execution_count": 89,
     "metadata": {},
     "output_type": "execute_result"
    }
   ],
   "source": [
    "df.head()"
   ]
  },
  {
   "cell_type": "code",
   "execution_count": 90,
   "id": "3874257e",
   "metadata": {},
   "outputs": [],
   "source": [
    "# In the new dataframe visualization, 22 columns are displayed. There were originally 26.\n",
    "# En la nueva visualización del dataframe aparecen 22 columnas. Eran 26 originalmente."
   ]
  },
  {
   "cell_type": "code",
   "execution_count": 91,
   "id": "d182f3dd",
   "metadata": {},
   "outputs": [],
   "source": [
    "## Task 2b: Data Cleaning (Python)\n",
    "# Check for null values and display the count in ascending order.\n",
    "# If missing values are present, impute the values as you see fit.\n",
    "\n",
    "## Tarea 2b: Limpieza de datos (Python)\n",
    "# Comprueba si hay valores nulos y muestra el recuento en orden ascendente. \n",
    "# **Si faltan valores, imputa los valores como consideres.**"
   ]
  },
  {
   "cell_type": "code",
   "execution_count": 92,
   "id": "0dec4de1",
   "metadata": {},
   "outputs": [
    {
     "data": {
      "text/html": [
       "<div>\n",
       "<style scoped>\n",
       "    .dataframe tbody tr th:only-of-type {\n",
       "        vertical-align: middle;\n",
       "    }\n",
       "\n",
       "    .dataframe tbody tr th {\n",
       "        vertical-align: top;\n",
       "    }\n",
       "\n",
       "    .dataframe thead th {\n",
       "        text-align: right;\n",
       "    }\n",
       "</style>\n",
       "<table border=\"1\" class=\"dataframe\">\n",
       "  <thead>\n",
       "    <tr style=\"text-align: right;\">\n",
       "      <th></th>\n",
       "      <th>NAME</th>\n",
       "      <th>host_identity_verified</th>\n",
       "      <th>host name</th>\n",
       "      <th>neighbourhood group</th>\n",
       "      <th>neighbourhood</th>\n",
       "      <th>lat</th>\n",
       "      <th>long</th>\n",
       "      <th>instant_bookable</th>\n",
       "      <th>cancellation_policy</th>\n",
       "      <th>room type</th>\n",
       "      <th>...</th>\n",
       "      <th>service fee</th>\n",
       "      <th>minimum nights</th>\n",
       "      <th>number of reviews</th>\n",
       "      <th>last review</th>\n",
       "      <th>reviews per month</th>\n",
       "      <th>review rate number</th>\n",
       "      <th>calculated host listings count</th>\n",
       "      <th>availability 365</th>\n",
       "      <th>house_rules</th>\n",
       "      <th>license</th>\n",
       "    </tr>\n",
       "  </thead>\n",
       "  <tbody>\n",
       "    <tr>\n",
       "      <th>0</th>\n",
       "      <td>False</td>\n",
       "      <td>False</td>\n",
       "      <td>False</td>\n",
       "      <td>False</td>\n",
       "      <td>False</td>\n",
       "      <td>False</td>\n",
       "      <td>False</td>\n",
       "      <td>False</td>\n",
       "      <td>False</td>\n",
       "      <td>False</td>\n",
       "      <td>...</td>\n",
       "      <td>False</td>\n",
       "      <td>False</td>\n",
       "      <td>False</td>\n",
       "      <td>False</td>\n",
       "      <td>False</td>\n",
       "      <td>False</td>\n",
       "      <td>False</td>\n",
       "      <td>False</td>\n",
       "      <td>False</td>\n",
       "      <td>True</td>\n",
       "    </tr>\n",
       "    <tr>\n",
       "      <th>1</th>\n",
       "      <td>False</td>\n",
       "      <td>False</td>\n",
       "      <td>False</td>\n",
       "      <td>False</td>\n",
       "      <td>False</td>\n",
       "      <td>False</td>\n",
       "      <td>False</td>\n",
       "      <td>False</td>\n",
       "      <td>False</td>\n",
       "      <td>False</td>\n",
       "      <td>...</td>\n",
       "      <td>False</td>\n",
       "      <td>False</td>\n",
       "      <td>False</td>\n",
       "      <td>False</td>\n",
       "      <td>False</td>\n",
       "      <td>False</td>\n",
       "      <td>False</td>\n",
       "      <td>False</td>\n",
       "      <td>False</td>\n",
       "      <td>True</td>\n",
       "    </tr>\n",
       "    <tr>\n",
       "      <th>2</th>\n",
       "      <td>False</td>\n",
       "      <td>True</td>\n",
       "      <td>False</td>\n",
       "      <td>False</td>\n",
       "      <td>False</td>\n",
       "      <td>False</td>\n",
       "      <td>False</td>\n",
       "      <td>False</td>\n",
       "      <td>False</td>\n",
       "      <td>False</td>\n",
       "      <td>...</td>\n",
       "      <td>False</td>\n",
       "      <td>False</td>\n",
       "      <td>False</td>\n",
       "      <td>True</td>\n",
       "      <td>True</td>\n",
       "      <td>False</td>\n",
       "      <td>False</td>\n",
       "      <td>False</td>\n",
       "      <td>False</td>\n",
       "      <td>True</td>\n",
       "    </tr>\n",
       "    <tr>\n",
       "      <th>3</th>\n",
       "      <td>True</td>\n",
       "      <td>False</td>\n",
       "      <td>False</td>\n",
       "      <td>False</td>\n",
       "      <td>False</td>\n",
       "      <td>False</td>\n",
       "      <td>False</td>\n",
       "      <td>False</td>\n",
       "      <td>False</td>\n",
       "      <td>False</td>\n",
       "      <td>...</td>\n",
       "      <td>False</td>\n",
       "      <td>False</td>\n",
       "      <td>False</td>\n",
       "      <td>False</td>\n",
       "      <td>False</td>\n",
       "      <td>False</td>\n",
       "      <td>False</td>\n",
       "      <td>False</td>\n",
       "      <td>True</td>\n",
       "      <td>True</td>\n",
       "    </tr>\n",
       "    <tr>\n",
       "      <th>4</th>\n",
       "      <td>False</td>\n",
       "      <td>False</td>\n",
       "      <td>False</td>\n",
       "      <td>False</td>\n",
       "      <td>False</td>\n",
       "      <td>False</td>\n",
       "      <td>False</td>\n",
       "      <td>False</td>\n",
       "      <td>False</td>\n",
       "      <td>False</td>\n",
       "      <td>...</td>\n",
       "      <td>False</td>\n",
       "      <td>False</td>\n",
       "      <td>False</td>\n",
       "      <td>False</td>\n",
       "      <td>False</td>\n",
       "      <td>False</td>\n",
       "      <td>False</td>\n",
       "      <td>False</td>\n",
       "      <td>False</td>\n",
       "      <td>True</td>\n",
       "    </tr>\n",
       "  </tbody>\n",
       "</table>\n",
       "<p>5 rows × 22 columns</p>\n",
       "</div>"
      ],
      "text/plain": [
       "    NAME  host_identity_verified  host name  neighbourhood group  \\\n",
       "0  False                   False      False                False   \n",
       "1  False                   False      False                False   \n",
       "2  False                    True      False                False   \n",
       "3   True                   False      False                False   \n",
       "4  False                   False      False                False   \n",
       "\n",
       "   neighbourhood    lat   long  instant_bookable  cancellation_policy  \\\n",
       "0          False  False  False             False                False   \n",
       "1          False  False  False             False                False   \n",
       "2          False  False  False             False                False   \n",
       "3          False  False  False             False                False   \n",
       "4          False  False  False             False                False   \n",
       "\n",
       "   room type  ...  service fee  minimum nights  number of reviews  \\\n",
       "0      False  ...        False           False              False   \n",
       "1      False  ...        False           False              False   \n",
       "2      False  ...        False           False              False   \n",
       "3      False  ...        False           False              False   \n",
       "4      False  ...        False           False              False   \n",
       "\n",
       "   last review  reviews per month  review rate number  \\\n",
       "0        False              False               False   \n",
       "1        False              False               False   \n",
       "2         True               True               False   \n",
       "3        False              False               False   \n",
       "4        False              False               False   \n",
       "\n",
       "   calculated host listings count  availability 365  house_rules  license  \n",
       "0                           False             False        False     True  \n",
       "1                           False             False        False     True  \n",
       "2                           False             False        False     True  \n",
       "3                           False             False         True     True  \n",
       "4                           False             False        False     True  \n",
       "\n",
       "[5 rows x 22 columns]"
      ]
     },
     "execution_count": 92,
     "metadata": {},
     "output_type": "execute_result"
    }
   ],
   "source": [
    "df.isnull().head()"
   ]
  },
  {
   "cell_type": "code",
   "execution_count": 93,
   "id": "391150e8",
   "metadata": {},
   "outputs": [
    {
     "name": "stdout",
     "output_type": "stream",
     "text": [
      "room type                              0\n",
      "lat                                    8\n",
      "long                                   8\n",
      "neighbourhood                         16\n",
      "neighbourhood group                   29\n",
      "cancellation_policy                   76\n",
      "instant_bookable                     105\n",
      "number of reviews                    183\n",
      "Construction year                    214\n",
      "price                                247\n",
      "NAME                                 250\n",
      "service fee                          273\n",
      "host_identity_verified               289\n",
      "calculated host listings count       319\n",
      "review rate number                   326\n",
      "host name                            406\n",
      "minimum nights                       409\n",
      "availability 365                     448\n",
      "reviews per month                  15879\n",
      "last review                        15893\n",
      "house_rules                        52131\n",
      "license                           102597\n",
      "dtype: int64\n"
     ]
    }
   ],
   "source": [
    "null_values = df.isnull().sum().sort_values(ascending = True)\n",
    "print(null_values)"
   ]
  },
  {
   "cell_type": "code",
   "execution_count": 94,
   "id": "a334348c",
   "metadata": {},
   "outputs": [
    {
     "name": "stdout",
     "output_type": "stream",
     "text": [
      "                                      NAME host_identity_verified host name  \\\n",
      "779  Large, furnished room in a 2 bedroom!            unconfirmed    Gibson   \n",
      "785      Authentic NY Charming Artist Loft            unconfirmed    Bailey   \n",
      "799         Huge room with private balcony               verified      Hunt   \n",
      "814    Decorators 5-Star Flat West Village               verified    Watson   \n",
      "843     Nice Private Room Beauty in Queens               verified   Roberts   \n",
      "885            Cute Room in Historic Loft!            unconfirmed     Jones   \n",
      "926        21 day Chelsea Apartment rental            unconfirmed     Owens   \n",
      "986         New York City for All Seasons!            unconfirmed   Douglas   \n",
      "\n",
      "    neighbourhood group      neighbourhood  lat  long instant_bookable  \\\n",
      "779            Brooklyn      Crown Heights  NaN   NaN            False   \n",
      "785            Brooklyn         Greenpoint  NaN   NaN            False   \n",
      "799           Manhattan       East Village  NaN   NaN            False   \n",
      "814           Manhattan       West Village  NaN   NaN             True   \n",
      "843              Queens           Elmhurst  NaN   NaN             True   \n",
      "885            Brooklyn         Greenpoint  NaN   NaN             True   \n",
      "926           Manhattan  Flatiron District  NaN   NaN            False   \n",
      "986           Manhattan    Upper West Side  NaN   NaN             True   \n",
      "\n",
      "    cancellation_policy        room type  ...  service fee minimum nights  \\\n",
      "779              strict     Private room  ...        $108             1.0   \n",
      "785              strict  Entire home/apt  ...        $212             5.0   \n",
      "799            flexible     Private room  ...        $101             6.0   \n",
      "814              strict  Entire home/apt  ...         $76            20.0   \n",
      "843              strict     Private room  ...         $45             1.0   \n",
      "885            flexible     Private room  ...        $105            14.0   \n",
      "926              strict     Private room  ...        $125            21.0   \n",
      "986            flexible     Private room  ...         $83             1.0   \n",
      "\n",
      "    number of reviews  last review  reviews per month review rate number  \\\n",
      "779               1.0    3/18/2017               0.04                2.0   \n",
      "785              14.0    6/19/2019               0.16                5.0   \n",
      "799               1.0     5/6/2013               0.01                1.0   \n",
      "814             157.0    8/11/2016               1.71                4.0   \n",
      "843              63.0    5/18/2019               0.89                3.0   \n",
      "885              22.0     5/2/2019               0.25                1.0   \n",
      "926               0.0          NaN                NaN                2.0   \n",
      "986              25.0    6/22/2013               0.28                2.0   \n",
      "\n",
      "     calculated host listings count  availability 365  \\\n",
      "779                             1.0              41.0   \n",
      "785                             1.0             226.0   \n",
      "799                             1.0             240.0   \n",
      "814                             1.0              61.0   \n",
      "843                             2.0              70.0   \n",
      "885                             1.0             266.0   \n",
      "926                             1.0             104.0   \n",
      "986                             1.0             259.0   \n",
      "\n",
      "                                           house_rules  license  \n",
      "779  - Weekly and monthly prices are much lower - P...      NaN  \n",
      "785  We live and let live - hoping that you'd be re...      NaN  \n",
      "799  Expect respect for the family and the space--t...      NaN  \n",
      "814  Please keep it clean, thats all we really ask ...      NaN  \n",
      "843                                                NaN      NaN  \n",
      "885  Pets are cool (just clean up after them!), smo...      NaN  \n",
      "926                                                NaN      NaN  \n",
      "986                                 No Smoking No Pets      NaN  \n",
      "\n",
      "[8 rows x 22 columns]\n"
     ]
    }
   ],
   "source": [
    "# I am checking the 'lat' and 'long' fields; there are 8 null records that can be reviewed at a glance.\n",
    "# Inicio revisando los campos lat y long, hay 8 registros nulos que se pueden revisar a vista.\n",
    "print(df[df['lat'].isnull()])"
   ]
  },
  {
   "cell_type": "code",
   "execution_count": 95,
   "id": "d018514f",
   "metadata": {},
   "outputs": [
    {
     "name": "stdout",
     "output_type": "stream",
     "text": [
      "             lat      long\n",
      "19      40.67592 -73.94694\n",
      "269     40.67780 -73.94339\n",
      "271     40.67610 -73.95290\n",
      "272     40.67586 -73.95155\n",
      "284     40.67150 -73.94808\n",
      "...          ...       ...\n",
      "102435  40.67182 -73.94446\n",
      "102527  40.67627 -73.94775\n",
      "102533  40.67259 -73.95831\n",
      "102582  40.66743 -73.94712\n",
      "102590  40.66673 -73.96127\n",
      "\n",
      "[3262 rows x 2 columns]\n"
     ]
    }
   ],
   "source": [
    "search_df = df[(df['neighbourhood group'] == 'Brooklyn') & (df['neighbourhood'] == 'Crown Heights')][['lat', 'long']]\n",
    "print(search_df)"
   ]
  },
  {
   "cell_type": "code",
   "execution_count": 96,
   "id": "d6c67eef",
   "metadata": {},
   "outputs": [],
   "source": [
    "# The values are very close, but not identical, so the median value will be imputed. \n",
    "# This criterion will be applied to all numeric columns.\n",
    "# For categorical variables, the value of 0 will be assigned.\n",
    "\n",
    "# Los valores son muy cercanos, pero no identicos, por lo tanto se imputara el valor de la mediana.\n",
    "# Este criterio se aplicará para todas las columnas numéricas.\n",
    "# Para las variables categóricas se colocará el valor de 0\n"
   ]
  },
  {
   "cell_type": "code",
   "execution_count": 97,
   "id": "4f37c1f6",
   "metadata": {},
   "outputs": [
    {
     "name": "stdout",
     "output_type": "stream",
     "text": [
      "categorical columns: NAME\n",
      "categorical columns: host_identity_verified\n",
      "categorical columns: host name\n",
      "categorical columns: neighbourhood group\n",
      "categorical columns: neighbourhood\n",
      "categorical numeric: lat\n",
      "categorical numeric: long\n",
      "categorical columns: instant_bookable\n",
      "categorical columns: cancellation_policy\n",
      "categorical columns: room type\n",
      "categorical numeric: Construction year\n",
      "categorical columns: price\n",
      "categorical columns: service fee\n",
      "categorical numeric: minimum nights\n",
      "categorical numeric: number of reviews\n",
      "categorical columns: last review\n",
      "categorical numeric: reviews per month\n",
      "categorical numeric: review rate number\n",
      "categorical numeric: calculated host listings count\n",
      "categorical numeric: availability 365\n",
      "categorical columns: house_rules\n",
      "categorical columns: license\n"
     ]
    }
   ],
   "source": [
    "for col in df.columns:\n",
    "    # Si la columna es de tipo object ('O'), se asume que es categórica o de texto\n",
    "    if df[col].dtype == 'O':\n",
    "        # categorical columns\n",
    "        print(\"categorical columns:\", col)\n",
    "        # Rellenar valores nulos con la moda (el valor más frecuente)\n",
    "        df[col].fillna(value=df[col].mode()[0], inplace=True)\n",
    "    else:\n",
    "        # numeric columns\n",
    "        print(\"categorical numeric:\", col)\n",
    "        df[col].fillna(value=df[col].median(), inplace=True)"
   ]
  },
  {
   "cell_type": "code",
   "execution_count": 98,
   "id": "b0be128b",
   "metadata": {},
   "outputs": [],
   "source": [
    "## Task 2b: Data Cleaning (Python)\n",
    "# Check for duplicate values and remove them.\n",
    "# Display the total number of records before and after removing duplicates.\n",
    "\n",
    "## Tarea 2b: Limpieza de datos (Python)\n",
    "# Comprueba si hay valores duplicados y elimínalos.\n",
    "# Muestra el número total de registros antes y después de eliminar los duplicados."
   ]
  },
  {
   "cell_type": "code",
   "execution_count": 99,
   "id": "a1f01233",
   "metadata": {},
   "outputs": [
    {
     "data": {
      "text/plain": [
       "3461"
      ]
     },
     "execution_count": 99,
     "metadata": {},
     "output_type": "execute_result"
    }
   ],
   "source": [
    "df.duplicated().sum() # Before removing duplicates / Antes de eliminar duplicados"
   ]
  },
  {
   "cell_type": "code",
   "execution_count": 100,
   "id": "b0fbe7ff",
   "metadata": {},
   "outputs": [],
   "source": [
    "df.drop_duplicates(inplace = True)"
   ]
  },
  {
   "cell_type": "code",
   "execution_count": 101,
   "id": "f724c473",
   "metadata": {},
   "outputs": [
    {
     "data": {
      "text/plain": [
       "0"
      ]
     },
     "execution_count": 101,
     "metadata": {},
     "output_type": "execute_result"
    }
   ],
   "source": [
    "df.duplicated().sum() # After removing duplicates / Después de eliminar duplicados"
   ]
  },
  {
   "cell_type": "code",
   "execution_count": 102,
   "id": "2b81cdac",
   "metadata": {},
   "outputs": [],
   "source": [
    "# Task 3: Data Transformation (any tool)\n",
    "# Change the name of the column availability 365 to days_booked.\n",
    "# Convert all column names to lowercase and replace spaces in column names with an underscore \"_\".\n",
    "# Remove the dollar sign and comma from the price and service_fee columns. If necessary, convert \n",
    "# these two columns to the appropriate data type.\n",
    "\n",
    "#Tarea 3: Transformación de datos (cualquier herramienta)\n",
    "# Cambia el nombre de la columna `availability 365` a `days_booked`.\n",
    "# Convierte todos los nombres de columna a minúsculas y sustituye los espacios en los nombres de columna por un guión bajo \"_\".\n",
    "# Elimina el signo de dólares y la coma de las columnas `price` y `service_fee`. Si es necesario, \n",
    "# convierte estas dos columnas al tipo de datos adecuado.\n"
   ]
  },
  {
   "cell_type": "code",
   "execution_count": 103,
   "id": "531eaca2",
   "metadata": {},
   "outputs": [],
   "source": [
    "df.rename(columns={\"availability 365\": \"days_booked\"}, inplace = True)"
   ]
  },
  {
   "cell_type": "code",
   "execution_count": 104,
   "id": "a030c806",
   "metadata": {},
   "outputs": [],
   "source": [
    "df.columns = [col.lower().replace(\" \", \"_\") for col in df.columns]"
   ]
  },
  {
   "cell_type": "code",
   "execution_count": 105,
   "id": "8f386222",
   "metadata": {},
   "outputs": [
    {
     "data": {
      "text/plain": [
       "Index(['name', 'host_identity_verified', 'host_name', 'neighbourhood_group',\n",
       "       'neighbourhood', 'lat', 'long', 'instant_bookable',\n",
       "       'cancellation_policy', 'room_type', 'construction_year', 'price',\n",
       "       'service_fee', 'minimum_nights', 'number_of_reviews', 'last_review',\n",
       "       'reviews_per_month', 'review_rate_number',\n",
       "       'calculated_host_listings_count', 'days_booked', 'house_rules',\n",
       "       'license'],\n",
       "      dtype='object')"
      ]
     },
     "execution_count": 105,
     "metadata": {},
     "output_type": "execute_result"
    }
   ],
   "source": [
    "df.columns"
   ]
  },
  {
   "cell_type": "code",
   "execution_count": 106,
   "id": "c84d127b",
   "metadata": {},
   "outputs": [
    {
     "data": {
      "text/plain": [
       "0    $966 \n",
       "1    $142 \n",
       "2    $620 \n",
       "3    $368 \n",
       "4    $204 \n",
       "Name: price, dtype: object"
      ]
     },
     "execution_count": 106,
     "metadata": {},
     "output_type": "execute_result"
    }
   ],
   "source": [
    "df[\"price\"].head()"
   ]
  },
  {
   "cell_type": "code",
   "execution_count": 107,
   "id": "e8a8ff2f",
   "metadata": {},
   "outputs": [],
   "source": [
    "df['price'] = df['price'].replace('[\\$,]', '', regex=True).astype(float)"
   ]
  },
  {
   "cell_type": "code",
   "execution_count": 108,
   "id": "f5ef8191",
   "metadata": {},
   "outputs": [
    {
     "data": {
      "text/plain": [
       "0    966.0\n",
       "1    142.0\n",
       "2    620.0\n",
       "3    368.0\n",
       "4    204.0\n",
       "Name: price, dtype: float64"
      ]
     },
     "execution_count": 108,
     "metadata": {},
     "output_type": "execute_result"
    }
   ],
   "source": [
    "df[\"price\"].head()"
   ]
  },
  {
   "cell_type": "code",
   "execution_count": 109,
   "id": "7225f40b",
   "metadata": {},
   "outputs": [
    {
     "data": {
      "text/plain": [
       "0    $193 \n",
       "1     $28 \n",
       "2    $124 \n",
       "3     $74 \n",
       "4     $41 \n",
       "Name: service_fee, dtype: object"
      ]
     },
     "execution_count": 109,
     "metadata": {},
     "output_type": "execute_result"
    }
   ],
   "source": [
    "df[\"service_fee\"].head()"
   ]
  },
  {
   "cell_type": "code",
   "execution_count": 110,
   "id": "fd757eed",
   "metadata": {},
   "outputs": [],
   "source": [
    "df['service_fee'] = df['service_fee'].replace('[\\$,]', '', regex=True).astype(float)"
   ]
  },
  {
   "cell_type": "code",
   "execution_count": 111,
   "id": "b6fd2efd",
   "metadata": {},
   "outputs": [
    {
     "data": {
      "text/plain": [
       "0    193.0\n",
       "1     28.0\n",
       "2    124.0\n",
       "3     74.0\n",
       "4     41.0\n",
       "Name: service_fee, dtype: float64"
      ]
     },
     "execution_count": 111,
     "metadata": {},
     "output_type": "execute_result"
    }
   ],
   "source": [
    "df[\"service_fee\"].head()"
   ]
  },
  {
   "cell_type": "code",
   "execution_count": 112,
   "id": "2e632d5e",
   "metadata": {},
   "outputs": [],
   "source": [
    "# Utilicé una función regular para cambiar comas y signo dolar en los campos service_fee y price. \n",
    "# Además cambié el tipo de dato a float para poder realizar operaciones"
   ]
  },
  {
   "cell_type": "code",
   "execution_count": 113,
   "id": "15f87863",
   "metadata": {},
   "outputs": [],
   "source": [
    "# Task 4: Exploratory Data Analysis (any tool)\n",
    "# List the types of available rooms in the dataset\n",
    "# Which type of room has the strictest cancellation policy?\n",
    "# List the average price per neighborhood and identify the set of neighborhoods that is the most expensive to rent.\n",
    "\n",
    "# Tarea 4: Análisis exploratorio de datos (cualquier herramienta)\n",
    "# Enumera los tipos de habitaciones disponibles en el dataset\n",
    "# ¿Qué tipo de habitación tiene la política de cancelación más estricta?\n",
    "# Enumera el precio medio por barrio y señala cuál es el conjunto de barrios más caro para alquilar."
   ]
  },
  {
   "cell_type": "code",
   "execution_count": 114,
   "id": "6be43e86",
   "metadata": {},
   "outputs": [
    {
     "data": {
      "text/plain": [
       "Index(['name', 'host_identity_verified', 'host_name', 'neighbourhood_group',\n",
       "       'neighbourhood', 'lat', 'long', 'instant_bookable',\n",
       "       'cancellation_policy', 'room_type', 'construction_year', 'price',\n",
       "       'service_fee', 'minimum_nights', 'number_of_reviews', 'last_review',\n",
       "       'reviews_per_month', 'review_rate_number',\n",
       "       'calculated_host_listings_count', 'days_booked', 'house_rules',\n",
       "       'license'],\n",
       "      dtype='object')"
      ]
     },
     "execution_count": 114,
     "metadata": {},
     "output_type": "execute_result"
    }
   ],
   "source": [
    "df.columns"
   ]
  },
  {
   "cell_type": "code",
   "execution_count": 115,
   "id": "e6d62a2d",
   "metadata": {},
   "outputs": [
    {
     "data": {
      "text/plain": [
       "room_type\n",
       "Entire home/apt    51987\n",
       "Private room       44887\n",
       "Shared room         2149\n",
       "Hotel room           115\n",
       "Name: count, dtype: int64"
      ]
     },
     "execution_count": 115,
     "metadata": {},
     "output_type": "execute_result"
    }
   ],
   "source": [
    "df['room_type'].value_counts() #types of available rooms"
   ]
  },
  {
   "cell_type": "code",
   "execution_count": 116,
   "id": "88807107",
   "metadata": {},
   "outputs": [
    {
     "data": {
      "text/plain": [
       "cancellation_policy\n",
       "moderate    33264\n",
       "flexible    32948\n",
       "strict      32926\n",
       "Name: count, dtype: int64"
      ]
     },
     "execution_count": 116,
     "metadata": {},
     "output_type": "execute_result"
    }
   ],
   "source": [
    "df['cancellation_policy'].value_counts() #types of cancellation"
   ]
  },
  {
   "cell_type": "code",
   "execution_count": 117,
   "id": "45d237f8",
   "metadata": {},
   "outputs": [
    {
     "name": "stdout",
     "output_type": "stream",
     "text": [
      "Entire home/apt\n"
     ]
    }
   ],
   "source": [
    "strict_room = df.loc[df['cancellation_policy']=='strict', 'room_type'].value_counts().idxmax()\n",
    "print(strict_room) # The entire home/apt has a cancellation policy more strict"
   ]
  },
  {
   "cell_type": "code",
   "execution_count": 118,
   "id": "bb4fe5c2",
   "metadata": {},
   "outputs": [
    {
     "name": "stdout",
     "output_type": "stream",
     "text": [
      "neighbourhood_group\n",
      "Queens           628.668822\n",
      "Brooklyn         625.471627\n",
      "Bronx            625.271511\n",
      "Staten Island    625.060870\n",
      "Manhattan        621.666140\n",
      "brookln          580.000000\n",
      "manhatan         460.000000\n",
      "Name: price, dtype: float64\n"
     ]
    }
   ],
   "source": [
    "average_price = df.groupby('neighbourhood_group')['price'].mean().sort_values(ascending = False)\n",
    "print(average_price) "
   ]
  },
  {
   "cell_type": "code",
   "execution_count": 119,
   "id": "b19c3075",
   "metadata": {},
   "outputs": [
    {
     "name": "stdout",
     "output_type": "stream",
     "text": [
      "['Brooklyn' 'Manhattan' 'brookln' 'manhatan' 'Queens' 'Staten Island'\n",
      " 'Bronx']\n"
     ]
    }
   ],
   "source": [
    "neighbourhood_groups_ny = df['neighbourhood_group'].unique()\n",
    "print(neighbourhood_groups_ny)"
   ]
  },
  {
   "cell_type": "code",
   "execution_count": 120,
   "id": "06397889",
   "metadata": {},
   "outputs": [],
   "source": [
    "# At this point, I notice a typographical error in 'brookln' and 'manhatan', so I proceed to update these values.\n",
    "# En este punto noto que hay un error de tipografia en 'brookln' y 'manhatan, procedo a actualizar estos valores"
   ]
  },
  {
   "cell_type": "code",
   "execution_count": 121,
   "id": "df3025da",
   "metadata": {},
   "outputs": [],
   "source": [
    "data = df.copy()\n",
    "data['neighbourhood_group'] = data['neighbourhood_group'].replace('brookln', 'Brooklyn')      "
   ]
  },
  {
   "cell_type": "code",
   "execution_count": 125,
   "id": "6723455f",
   "metadata": {},
   "outputs": [
    {
     "name": "stdout",
     "output_type": "stream",
     "text": [
      "['Brooklyn' 'Manhattan' 'manhatan' 'Queens' 'Staten Island' 'Bronx']\n"
     ]
    }
   ],
   "source": [
    "print(data['neighbourhood_group'].unique())"
   ]
  },
  {
   "cell_type": "code",
   "execution_count": 126,
   "id": "1ad2f915",
   "metadata": {},
   "outputs": [],
   "source": [
    "data['neighbourhood_group'] = data['neighbourhood_group'].replace('manhatan', 'Manhattan') "
   ]
  },
  {
   "cell_type": "code",
   "execution_count": 127,
   "id": "a9f1d566",
   "metadata": {},
   "outputs": [
    {
     "name": "stdout",
     "output_type": "stream",
     "text": [
      "['Brooklyn' 'Manhattan' 'Queens' 'Staten Island' 'Bronx']\n"
     ]
    }
   ],
   "source": [
    "print(data['neighbourhood_group'].unique())"
   ]
  },
  {
   "cell_type": "code",
   "execution_count": null,
   "id": "08e8db1c",
   "metadata": {},
   "outputs": [],
   "source": [
    "#Here, I don't know what happened, and when I performed the replacement, it updated everything to `None`. \n",
    "# So, luckily, you can quickly rerun all the Python code to be cautious. At this point, \n",
    "# I made a copy of the DataFrame.\n",
    "\n",
    "# Aquí no se que sucedio y cuando realicé el reemplazo me actualizo todo a None, así que por suerte se puede volver\n",
    "# a ejecutar todo el código python de manera rápida, para tomar mis precauciones, realicé en este punto una\n",
    "# copia del dataframe"
   ]
  },
  {
   "cell_type": "code",
   "execution_count": 128,
   "id": "a141e183",
   "metadata": {},
   "outputs": [
    {
     "data": {
      "text/html": [
       "<div>\n",
       "<style scoped>\n",
       "    .dataframe tbody tr th:only-of-type {\n",
       "        vertical-align: middle;\n",
       "    }\n",
       "\n",
       "    .dataframe tbody tr th {\n",
       "        vertical-align: top;\n",
       "    }\n",
       "\n",
       "    .dataframe thead th {\n",
       "        text-align: right;\n",
       "    }\n",
       "</style>\n",
       "<table border=\"1\" class=\"dataframe\">\n",
       "  <thead>\n",
       "    <tr style=\"text-align: right;\">\n",
       "      <th></th>\n",
       "      <th>name</th>\n",
       "      <th>host_identity_verified</th>\n",
       "      <th>host_name</th>\n",
       "      <th>neighbourhood_group</th>\n",
       "      <th>neighbourhood</th>\n",
       "      <th>lat</th>\n",
       "      <th>long</th>\n",
       "      <th>instant_bookable</th>\n",
       "      <th>cancellation_policy</th>\n",
       "      <th>room_type</th>\n",
       "      <th>...</th>\n",
       "      <th>service_fee</th>\n",
       "      <th>minimum_nights</th>\n",
       "      <th>number_of_reviews</th>\n",
       "      <th>last_review</th>\n",
       "      <th>reviews_per_month</th>\n",
       "      <th>review_rate_number</th>\n",
       "      <th>calculated_host_listings_count</th>\n",
       "      <th>days_booked</th>\n",
       "      <th>house_rules</th>\n",
       "      <th>license</th>\n",
       "    </tr>\n",
       "  </thead>\n",
       "  <tbody>\n",
       "    <tr>\n",
       "      <th>0</th>\n",
       "      <td>Clean &amp; quiet apt home by the park</td>\n",
       "      <td>unconfirmed</td>\n",
       "      <td>Madaline</td>\n",
       "      <td>Brooklyn</td>\n",
       "      <td>Kensington</td>\n",
       "      <td>40.64749</td>\n",
       "      <td>-73.97237</td>\n",
       "      <td>False</td>\n",
       "      <td>strict</td>\n",
       "      <td>Private room</td>\n",
       "      <td>...</td>\n",
       "      <td>193.0</td>\n",
       "      <td>10.0</td>\n",
       "      <td>9.0</td>\n",
       "      <td>10/19/2021</td>\n",
       "      <td>0.21</td>\n",
       "      <td>4.0</td>\n",
       "      <td>6.0</td>\n",
       "      <td>286.0</td>\n",
       "      <td>Clean up and treat the home the way you'd like...</td>\n",
       "      <td>41662/AL</td>\n",
       "    </tr>\n",
       "    <tr>\n",
       "      <th>1</th>\n",
       "      <td>Skylit Midtown Castle</td>\n",
       "      <td>verified</td>\n",
       "      <td>Jenna</td>\n",
       "      <td>Manhattan</td>\n",
       "      <td>Midtown</td>\n",
       "      <td>40.75362</td>\n",
       "      <td>-73.98377</td>\n",
       "      <td>False</td>\n",
       "      <td>moderate</td>\n",
       "      <td>Entire home/apt</td>\n",
       "      <td>...</td>\n",
       "      <td>28.0</td>\n",
       "      <td>30.0</td>\n",
       "      <td>45.0</td>\n",
       "      <td>5/21/2022</td>\n",
       "      <td>0.38</td>\n",
       "      <td>4.0</td>\n",
       "      <td>2.0</td>\n",
       "      <td>228.0</td>\n",
       "      <td>Pet friendly but please confirm with me if the...</td>\n",
       "      <td>41662/AL</td>\n",
       "    </tr>\n",
       "    <tr>\n",
       "      <th>2</th>\n",
       "      <td>THE VILLAGE OF HARLEM....NEW YORK !</td>\n",
       "      <td>unconfirmed</td>\n",
       "      <td>Elise</td>\n",
       "      <td>Manhattan</td>\n",
       "      <td>Harlem</td>\n",
       "      <td>40.80902</td>\n",
       "      <td>-73.94190</td>\n",
       "      <td>True</td>\n",
       "      <td>flexible</td>\n",
       "      <td>Private room</td>\n",
       "      <td>...</td>\n",
       "      <td>124.0</td>\n",
       "      <td>3.0</td>\n",
       "      <td>0.0</td>\n",
       "      <td>6/23/2019</td>\n",
       "      <td>0.74</td>\n",
       "      <td>5.0</td>\n",
       "      <td>1.0</td>\n",
       "      <td>352.0</td>\n",
       "      <td>I encourage you to use my kitchen, cooking and...</td>\n",
       "      <td>41662/AL</td>\n",
       "    </tr>\n",
       "    <tr>\n",
       "      <th>3</th>\n",
       "      <td>Home away from home</td>\n",
       "      <td>unconfirmed</td>\n",
       "      <td>Garry</td>\n",
       "      <td>Brooklyn</td>\n",
       "      <td>Clinton Hill</td>\n",
       "      <td>40.68514</td>\n",
       "      <td>-73.95976</td>\n",
       "      <td>True</td>\n",
       "      <td>moderate</td>\n",
       "      <td>Entire home/apt</td>\n",
       "      <td>...</td>\n",
       "      <td>74.0</td>\n",
       "      <td>30.0</td>\n",
       "      <td>270.0</td>\n",
       "      <td>7/5/2019</td>\n",
       "      <td>4.64</td>\n",
       "      <td>4.0</td>\n",
       "      <td>1.0</td>\n",
       "      <td>322.0</td>\n",
       "      <td>#NAME?</td>\n",
       "      <td>41662/AL</td>\n",
       "    </tr>\n",
       "    <tr>\n",
       "      <th>4</th>\n",
       "      <td>Entire Apt: Spacious Studio/Loft by central park</td>\n",
       "      <td>verified</td>\n",
       "      <td>Lyndon</td>\n",
       "      <td>Manhattan</td>\n",
       "      <td>East Harlem</td>\n",
       "      <td>40.79851</td>\n",
       "      <td>-73.94399</td>\n",
       "      <td>False</td>\n",
       "      <td>moderate</td>\n",
       "      <td>Entire home/apt</td>\n",
       "      <td>...</td>\n",
       "      <td>41.0</td>\n",
       "      <td>10.0</td>\n",
       "      <td>9.0</td>\n",
       "      <td>11/19/2018</td>\n",
       "      <td>0.10</td>\n",
       "      <td>3.0</td>\n",
       "      <td>1.0</td>\n",
       "      <td>289.0</td>\n",
       "      <td>Please no smoking in the house, porch or on th...</td>\n",
       "      <td>41662/AL</td>\n",
       "    </tr>\n",
       "  </tbody>\n",
       "</table>\n",
       "<p>5 rows × 22 columns</p>\n",
       "</div>"
      ],
      "text/plain": [
       "                                               name host_identity_verified  \\\n",
       "0                Clean & quiet apt home by the park            unconfirmed   \n",
       "1                             Skylit Midtown Castle               verified   \n",
       "2               THE VILLAGE OF HARLEM....NEW YORK !            unconfirmed   \n",
       "3                               Home away from home            unconfirmed   \n",
       "4  Entire Apt: Spacious Studio/Loft by central park               verified   \n",
       "\n",
       "  host_name neighbourhood_group neighbourhood       lat      long  \\\n",
       "0  Madaline            Brooklyn    Kensington  40.64749 -73.97237   \n",
       "1     Jenna           Manhattan       Midtown  40.75362 -73.98377   \n",
       "2     Elise           Manhattan        Harlem  40.80902 -73.94190   \n",
       "3     Garry            Brooklyn  Clinton Hill  40.68514 -73.95976   \n",
       "4    Lyndon           Manhattan   East Harlem  40.79851 -73.94399   \n",
       "\n",
       "   instant_bookable cancellation_policy        room_type  ...  service_fee  \\\n",
       "0             False              strict     Private room  ...        193.0   \n",
       "1             False            moderate  Entire home/apt  ...         28.0   \n",
       "2              True            flexible     Private room  ...        124.0   \n",
       "3              True            moderate  Entire home/apt  ...         74.0   \n",
       "4             False            moderate  Entire home/apt  ...         41.0   \n",
       "\n",
       "   minimum_nights  number_of_reviews  last_review  reviews_per_month  \\\n",
       "0            10.0                9.0   10/19/2021               0.21   \n",
       "1            30.0               45.0    5/21/2022               0.38   \n",
       "2             3.0                0.0    6/23/2019               0.74   \n",
       "3            30.0              270.0     7/5/2019               4.64   \n",
       "4            10.0                9.0   11/19/2018               0.10   \n",
       "\n",
       "  review_rate_number  calculated_host_listings_count  days_booked  \\\n",
       "0                4.0                             6.0        286.0   \n",
       "1                4.0                             2.0        228.0   \n",
       "2                5.0                             1.0        352.0   \n",
       "3                4.0                             1.0        322.0   \n",
       "4                3.0                             1.0        289.0   \n",
       "\n",
       "                                         house_rules   license  \n",
       "0  Clean up and treat the home the way you'd like...  41662/AL  \n",
       "1  Pet friendly but please confirm with me if the...  41662/AL  \n",
       "2  I encourage you to use my kitchen, cooking and...  41662/AL  \n",
       "3                                             #NAME?  41662/AL  \n",
       "4  Please no smoking in the house, porch or on th...  41662/AL  \n",
       "\n",
       "[5 rows x 22 columns]"
      ]
     },
     "execution_count": 128,
     "metadata": {},
     "output_type": "execute_result"
    }
   ],
   "source": [
    "data.head()"
   ]
  },
  {
   "cell_type": "code",
   "execution_count": 130,
   "id": "1505f1f6",
   "metadata": {},
   "outputs": [
    {
     "data": {
      "text/plain": [
       "neighbourhood_group\n",
       "Manhattan        26354131.0\n",
       "Brooklyn         25252746.0\n",
       "Queens            8069593.0\n",
       "Bronx             1635085.0\n",
       "Staten Island      575056.0\n",
       "Name: price, dtype: float64"
      ]
     },
     "execution_count": 130,
     "metadata": {},
     "output_type": "execute_result"
    }
   ],
   "source": [
    "grpl= data['price'].groupby(data['neighbourhood_group']).sum().sort_values(ascending=False)\n",
    "grpl # List the average price per neighborhood, Manhattan is the most expensive to rent."
   ]
  },
  {
   "cell_type": "code",
   "execution_count": 131,
   "id": "fa93c574",
   "metadata": {},
   "outputs": [],
   "source": [
    "data.to_csv('airbnb.csv') # I export to CSV because I will start visualizing in Tableau.\n"
   ]
  },
  {
   "cell_type": "code",
   "execution_count": 134,
   "id": "f6c3740a",
   "metadata": {},
   "outputs": [
    {
     "name": "stdout",
     "output_type": "stream",
     "text": [
      "             neighbourhood  minimum_nights\n",
      "2                   Harlem             3.0\n",
      "5              Murray Hill             3.0\n",
      "8           Hell's Kitchen             2.0\n",
      "9          Upper West Side             2.0\n",
      "10               Chinatown             1.0\n",
      "...                    ...             ...\n",
      "102053            Flatbush             7.0\n",
      "102054            Bushwick             1.0\n",
      "102055  Bedford-Stuyvesant             2.0\n",
      "102056              Harlem             2.0\n",
      "102057              Harlem             4.0\n",
      "\n",
      "[81297 rows x 2 columns]\n"
     ]
    }
   ],
   "source": [
    "barrios_corto_plazo = df[df['minimum_nights'] < 10][['neighbourhood', 'minimum_nights']]\n",
    "print(barrios_corto_plazo)\n"
   ]
  },
  {
   "cell_type": "code",
   "execution_count": 140,
   "id": "a6a6f7b2",
   "metadata": {},
   "outputs": [
    {
     "name": "stdout",
     "output_type": "stream",
     "text": [
      "                  neighbourhood  count\n",
      "0            Bedford-Stuyvesant   6551\n",
      "1                  Williamsburg   6342\n",
      "2                        Harlem   4447\n",
      "3                      Bushwick   4083\n",
      "4                Hell's Kitchen   2879\n",
      "..                          ...    ...\n",
      "219              Fort Wadsworth      2\n",
      "220                   Glen Oaks      2\n",
      "221                   Rossville      1\n",
      "222  Bay Terrace, Staten Island      1\n",
      "223      Chelsea, Staten Island      1\n",
      "\n",
      "[224 rows x 2 columns]\n"
     ]
    }
   ],
   "source": [
    "recuento_barrios = df[df['minimum_nights'] < 10]['neighbourhood'].value_counts().reset_index()\n",
    "recuento_barrios.columns = ['neighbourhood', 'count']\n",
    "print(recuento_barrios)"
   ]
  },
  {
   "cell_type": "code",
   "execution_count": 141,
   "id": "7e7997cc",
   "metadata": {},
   "outputs": [
    {
     "name": "stdout",
     "output_type": "stream",
     "text": [
      "       neighbourhood  minimum_nights\n",
      "0           Allerton             1.0\n",
      "1      Arden Heights             1.0\n",
      "2           Arrochar             1.0\n",
      "3            Arverne             1.0\n",
      "4            Astoria             1.0\n",
      "..               ...             ...\n",
      "219  Windsor Terrace             1.0\n",
      "220        Woodhaven             1.0\n",
      "221         Woodlawn             1.0\n",
      "222          Woodrow             1.0\n",
      "223         Woodside             1.0\n",
      "\n",
      "[224 rows x 2 columns]\n"
     ]
    }
   ],
   "source": [
    "barrios_corto_plazo_min = df[df['minimum_nights'] < 10].groupby('neighbourhood')['minimum_nights'].min().reset_index()\n",
    "print(barrios_corto_plazo_min)\n"
   ]
  },
  {
   "cell_type": "code",
   "execution_count": 142,
   "id": "a1603522",
   "metadata": {},
   "outputs": [
    {
     "data": {
      "text/plain": [
       "room_type\n",
       "Entire home/apt    32451726.0\n",
       "Private room       28002419.0\n",
       "Shared room         1355831.0\n",
       "Hotel room            76635.0\n",
       "Name: price, dtype: float64"
      ]
     },
     "execution_count": 142,
     "metadata": {},
     "output_type": "execute_result"
    }
   ],
   "source": [
    "grpl2= data['price'].groupby(data['room_type']).sum().sort_values(ascending=False)\n",
    "grpl2"
   ]
  },
  {
   "cell_type": "code",
   "execution_count": 144,
   "id": "78855f38",
   "metadata": {},
   "outputs": [
    {
     "data": {
      "text/plain": [
       "room_type\n",
       "Hotel room         666.391304\n",
       "Shared room        630.912517\n",
       "Entire home/apt    624.227711\n",
       "Private room       623.842516\n",
       "Name: price, dtype: float64"
      ]
     },
     "execution_count": 144,
     "metadata": {},
     "output_type": "execute_result"
    }
   ],
   "source": [
    "grpl2 = data.groupby('room_type')['price'].mean().sort_values(ascending=False)\n",
    "grpl2"
   ]
  },
  {
   "cell_type": "code",
   "execution_count": 146,
   "id": "500386dc",
   "metadata": {},
   "outputs": [
    {
     "data": {
      "text/plain": [
       "neighbourhood_group\n",
       "Bronx             468067.0\n",
       "Brooklyn         5279440.0\n",
       "Manhattan        6049571.0\n",
       "Queens           2084887.0\n",
       "Staten Island     180310.0\n",
       "Name: days_booked, dtype: float64"
      ]
     },
     "execution_count": 146,
     "metadata": {},
     "output_type": "execute_result"
    }
   ],
   "source": [
    "distribucion_dias = data.groupby('neighbourhood_group')['days_booked'].sum()\n",
    "distribucion_dias"
   ]
  },
  {
   "cell_type": "code",
   "execution_count": null,
   "id": "7762428f",
   "metadata": {},
   "outputs": [],
   "source": []
  },
  {
   "cell_type": "code",
   "execution_count": null,
   "id": "5a1cc375",
   "metadata": {},
   "outputs": [],
   "source": []
  }
 ],
 "metadata": {
  "kernelspec": {
   "display_name": "Python 3 (ipykernel)",
   "language": "python",
   "name": "python3"
  },
  "language_info": {
   "codemirror_mode": {
    "name": "ipython",
    "version": 3
   },
   "file_extension": ".py",
   "mimetype": "text/x-python",
   "name": "python",
   "nbconvert_exporter": "python",
   "pygments_lexer": "ipython3",
   "version": "3.11.5"
  }
 },
 "nbformat": 4,
 "nbformat_minor": 5
}
